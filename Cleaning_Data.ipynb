{
  "nbformat": 4,
  "nbformat_minor": 0,
  "metadata": {
    "colab": {
      "provenance": [],
      "authorship_tag": "ABX9TyPTeMSE4zWeti49nFalcMOh",
      "include_colab_link": true
    },
    "kernelspec": {
      "name": "python3",
      "display_name": "Python 3"
    },
    "language_info": {
      "name": "python"
    }
  },
  "cells": [
    {
      "cell_type": "markdown",
      "metadata": {
        "id": "view-in-github",
        "colab_type": "text"
      },
      "source": [
        "<a href=\"https://colab.research.google.com/github/Ananya22-ux/OASIS-INFOBYTE/blob/main/Cleaning_Data.ipynb\" target=\"_parent\"><img src=\"https://colab.research.google.com/assets/colab-badge.svg\" alt=\"Open In Colab\"/></a>"
      ]
    },
    {
      "cell_type": "markdown",
      "source": [
        " Import Necessary Libraries"
      ],
      "metadata": {
        "id": "_4Fw2ZZzSO4I"
      }
    },
    {
      "cell_type": "code",
      "source": [
        "import pandas as pd\n",
        "import numpy as np\n",
        "import matplotlib.pyplot as plt\n",
        "from sklearn.preprocessing import StandardScaler\n"
      ],
      "metadata": {
        "id": "lKF8oYJ9TJ2O"
      },
      "execution_count": null,
      "outputs": []
    },
    {
      "cell_type": "markdown",
      "source": [
        "Load Sample Data\n",
        "Assume we have a sample dataset df loaded from a CSV file or any other source."
      ],
      "metadata": {
        "id": "AnxMZe9eTZsY"
      }
    },
    {
      "cell_type": "code",
      "source": [
        "# Example: Loading sample data (replace with your actual data loading code)\n",
        "data = {\n",
        "    'ID': [1, 2, 3, 4, 5, 6, 7, 8, 9, 10],\n",
        "    'Age': [25, 30, np.nan, 35, 40, 45, 50, np.nan, 60, 70],\n",
        "    'Income': [50000, 60000, 75000, 90000, 80000, np.nan, 95000, 110000, 105000, 120000],\n",
        "    'Score': [85, 88, 82, 92, 89, 90, 78, 85, 95, 88]\n",
        "}\n",
        "\n",
        "df = pd.DataFrame(data)\n"
      ],
      "metadata": {
        "id": "ofrgsgUyTawf"
      },
      "execution_count": null,
      "outputs": []
    },
    {
      "cell_type": "markdown",
      "source": [
        "Handling Missing Data"
      ],
      "metadata": {
        "id": "_b_UZgeYTjWq"
      }
    },
    {
      "cell_type": "code",
      "source": [
        "# Display initial info and missing values\n",
        "print(\"Initial dataframe info:\")\n",
        "print(df.info())\n",
        "print(\"\\nMissing values:\")\n",
        "print(df.isnull().sum())\n",
        "\n",
        "# Handle missing values by imputing with mean or median\n",
        "# Impute Age with median, Income with mean\n",
        "median_age = df['Age'].median()\n",
        "mean_income = df['Income'].mean()\n",
        "df['Age'].fillna(median_age, inplace=True)\n",
        "df['Income'].fillna(mean_income, inplace=True)\n",
        "\n",
        "print(\"\\nAfter handling missing values:\")\n",
        "print(df.isnull().sum())\n"
      ],
      "metadata": {
        "colab": {
          "base_uri": "https://localhost:8080/"
        },
        "id": "IBtSqAQMTkbX",
        "outputId": "3391834b-587d-4936-9435-68c3f7e1c758"
      },
      "execution_count": null,
      "outputs": [
        {
          "output_type": "stream",
          "name": "stdout",
          "text": [
            "Initial dataframe info:\n",
            "<class 'pandas.core.frame.DataFrame'>\n",
            "RangeIndex: 10 entries, 0 to 9\n",
            "Data columns (total 4 columns):\n",
            " #   Column  Non-Null Count  Dtype  \n",
            "---  ------  --------------  -----  \n",
            " 0   ID      10 non-null     int64  \n",
            " 1   Age     8 non-null      float64\n",
            " 2   Income  9 non-null      float64\n",
            " 3   Score   10 non-null     int64  \n",
            "dtypes: float64(2), int64(2)\n",
            "memory usage: 448.0 bytes\n",
            "None\n",
            "\n",
            "Missing values:\n",
            "ID        0\n",
            "Age       2\n",
            "Income    1\n",
            "Score     0\n",
            "dtype: int64\n",
            "\n",
            "After handling missing values:\n",
            "ID        0\n",
            "Age       0\n",
            "Income    0\n",
            "Score     0\n",
            "dtype: int64\n"
          ]
        }
      ]
    },
    {
      "cell_type": "markdown",
      "source": [
        "\n",
        "Duplicate Removal"
      ],
      "metadata": {
        "id": "PsLm4HgPTtBI"
      }
    },
    {
      "cell_type": "code",
      "source": [
        "# Check for duplicates\n",
        "duplicate_rows = df[df.duplicated()]\n",
        "print(\"\\nDuplicate rows:\")\n",
        "print(duplicate_rows)\n",
        "\n",
        "# Drop duplicates\n",
        "df.drop_duplicates(inplace=True)\n",
        "print(\"\\nAfter removing duplicates:\")\n",
        "print(df)\n"
      ],
      "metadata": {
        "colab": {
          "base_uri": "https://localhost:8080/"
        },
        "id": "mQsIdESATytH",
        "outputId": "2e09e469-c5d5-4970-fcf0-9e5022238c49"
      },
      "execution_count": null,
      "outputs": [
        {
          "output_type": "stream",
          "name": "stdout",
          "text": [
            "\n",
            "Duplicate rows:\n",
            "Empty DataFrame\n",
            "Columns: [ID, Age, Income, Score]\n",
            "Index: []\n",
            "\n",
            "After removing duplicates:\n",
            "   ID   Age         Income  Score\n",
            "0   1  25.0   50000.000000     85\n",
            "1   2  30.0   60000.000000     88\n",
            "2   3  42.5   75000.000000     82\n",
            "3   4  35.0   90000.000000     92\n",
            "4   5  40.0   80000.000000     89\n",
            "5   6  45.0   87222.222222     90\n",
            "6   7  50.0   95000.000000     78\n",
            "7   8  42.5  110000.000000     85\n",
            "8   9  60.0  105000.000000     95\n",
            "9  10  70.0  120000.000000     88\n"
          ]
        }
      ]
    },
    {
      "cell_type": "markdown",
      "source": [
        "Standardization"
      ],
      "metadata": {
        "id": "yLs74CaUT7KF"
      }
    },
    {
      "cell_type": "code",
      "source": [
        "# Standardize numeric columns (Age, Income, Score) using StandardScaler\n",
        "scaler = StandardScaler()\n",
        "numeric_cols = ['Age', 'Income', 'Score']\n",
        "df[numeric_cols] = scaler.fit_transform(df[numeric_cols])\n",
        "\n",
        "print(\"\\nAfter standardization:\")\n",
        "print(df)\n"
      ],
      "metadata": {
        "colab": {
          "base_uri": "https://localhost:8080/"
        },
        "id": "bIg_hChST8Nf",
        "outputId": "bc089d00-0158-4e58-d4c6-5957d3de1bac"
      },
      "execution_count": null,
      "outputs": [
        {
          "output_type": "stream",
          "name": "stdout",
          "text": [
            "\n",
            "After standardization:\n",
            "   ID       Age    Income     Score\n",
            "0   1 -1.489337 -1.793857 -0.471621\n",
            "1   2 -1.097407 -1.311925  0.171499\n",
            "2   3 -0.117579 -0.589028 -1.114741\n",
            "3   4 -0.705476  0.133870  1.028992\n",
            "4   5 -0.313545 -0.348062  0.385872\n",
            "5   6  0.078386  0.000000  0.600245\n",
            "6   7  0.470317  0.374836 -1.972234\n",
            "7   8 -0.117579  1.097733 -0.471621\n",
            "8   9  1.254179  0.856767  1.672111\n",
            "9  10  2.038041  1.579665  0.171499\n"
          ]
        }
      ]
    },
    {
      "cell_type": "markdown",
      "source": [
        "Outlier Detection (Optional)"
      ],
      "metadata": {
        "id": "jieVfgFBUD85"
      }
    },
    {
      "cell_type": "code",
      "source": [
        "# Detect and handle outliers (example using IQR method)\n",
        "def remove_outliers(df, column):\n",
        "    Q1 = df[column].quantile(0.25)\n",
        "    Q3 = df[column].quantile(0.75)\n",
        "    IQR = Q3 - Q1\n",
        "    lower_bound = Q1 - 1.5 * IQR\n",
        "    upper_bound = Q3 + 1.5 * IQR\n",
        "    df = df[(df[column] >= lower_bound) & (df[column] <= upper_bound)]\n",
        "    return df\n",
        "\n",
        "# Example: Remove outliers in 'Income'\n",
        "df = remove_outliers(df, 'Income')\n",
        "\n",
        "print(\"\\nAfter removing outliers:\")\n",
        "print(df)\n"
      ],
      "metadata": {
        "colab": {
          "base_uri": "https://localhost:8080/"
        },
        "id": "BVCveNyhUFJq",
        "outputId": "e977f666-4a7a-4e05-8c51-555283d12a83"
      },
      "execution_count": null,
      "outputs": [
        {
          "output_type": "stream",
          "name": "stdout",
          "text": [
            "\n",
            "After removing outliers:\n",
            "   ID       Age    Income     Score\n",
            "0   1 -1.489337 -1.793857 -0.471621\n",
            "1   2 -1.097407 -1.311925  0.171499\n",
            "2   3 -0.117579 -0.589028 -1.114741\n",
            "3   4 -0.705476  0.133870  1.028992\n",
            "4   5 -0.313545 -0.348062  0.385872\n",
            "5   6  0.078386  0.000000  0.600245\n",
            "6   7  0.470317  0.374836 -1.972234\n",
            "7   8 -0.117579  1.097733 -0.471621\n",
            "8   9  1.254179  0.856767  1.672111\n",
            "9  10  2.038041  1.579665  0.171499\n"
          ]
        }
      ]
    }
  ]
}